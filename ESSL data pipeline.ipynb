{
 "cells": [
  {
   "cell_type": "code",
   "execution_count": null,
   "id": "1f8640f4",
   "metadata": {},
   "outputs": [],
   "source": [
    "import smtplib\n",
    "import ssl\n",
    "import os\n",
    "import requests.\n",
    "\n",
    "\n",
    "# Set up Essl API credentials\n",
    "API_KEY = \"your_api_key_here\"\n",
    "API_SECRET = \"your_api_secret_here\"\n",
    "\n",
    "# Set up export parameters\n",
    "export_url = \"https://api.essl.com/export_data\"\n",
    "export_params = {\n",
    "    \"start_date\": \"2022-01-01\",\n",
    "    \"end_date\": \"2022-03-31\",\n",
    "    \"data_type\": \"sales\",\n",
    "    \"file_format\": \"csv\"\n",
    "}\n",
    "\n",
    "# Make API request to export data\n",
    "response = requests.post(export_url, auth=(API_KEY, API_SECRET), params=export_params)\n",
    "\n",
    "# Check if the API request was successful and retrieve the exported data\n",
    "if response.status_code == 200:\n",
    "    exported_data = response.content\n",
    "\n",
    "    # Set up email parameters\n",
    "    sender_email = \"your_email_here\"\n",
    "    receiver_email = \"recipient_email_here\"\n",
    "    password = \"your_email_password_here\"\n",
    "    subject = \"Essl Software Data Export\"\n",
    "    body = \"Please find the attached Essl software data export file.\"\n",
    "\n",
    "    # Create message object\n",
    "    message = MIMEMultipart()\n",
    "    message[\"From\"] = sender_email\n",
    "    message[\"To\"] = receiver_email\n",
    "    message[\"Subject\"] = subject\n",
    "\n",
    "    # Attach the exported data to the message\n",
    "    attachment = MIMEText(exported_data, \"csv\")\n",
    "    attachment.add_header(\"Content-Disposition\", \"attachment\", filename=\"essl_data.csv\")\n",
    "    message.attach(attachment)\n",
    "\n",
    "    # Create a secure SSL context and send the email\n",
    "    context = ssl.create_default_context()\n",
    "    with smtplib.SMTP_SSL(\"smtp.gmail.com\", 465, context=context) as server:\n",
    "        server.login(sender_email, password)\n",
    "        server.sendmail(sender_email, receiver_email, message.as_string())\n",
    "\n",
    "    print(\"Email sent successfully.\")\n",
    "else:\n",
    "    print(\"Data export failed with error code: {}\".format(response.status_code))\n"
   ]
  },
  {
   "cell_type": "code",
   "execution_count": null,
   "id": "f0e9da9e",
   "metadata": {},
   "outputs": [],
   "source": [
    "import smtplib\n",
    "import ssl\n",
    "import os\n",
    "import requests"
   ]
  }
 ],
 "metadata": {
  "kernelspec": {
   "display_name": "Python 3 (ipykernel)",
   "language": "python",
   "name": "python3"
  },
  "language_info": {
   "codemirror_mode": {
    "name": "ipython",
    "version": 3
   },
   "file_extension": ".py",
   "mimetype": "text/x-python",
   "name": "python",
   "nbconvert_exporter": "python",
   "pygments_lexer": "ipython3",
   "version": "3.9.12"
  }
 },
 "nbformat": 4,
 "nbformat_minor": 5
}
